{
 "cells": [
  {
   "cell_type": "code",
   "execution_count": 3,
   "metadata": {},
   "outputs": [],
   "source": [
    "\n",
    "import csv\n",
    "import re\n",
    "\n",
    "with open(\"data.txt\", 'r') as file:\n",
    "    T = [list(map(int,rec)) for rec in csv.reader(file, delimiter=',')]\n",
    "\n"
   ]
  },
  {
   "cell_type": "code",
   "execution_count": 4,
   "metadata": {},
   "outputs": [
    {
     "name": "stdout",
     "output_type": "stream",
     "text": [
      "{'MIS(1)': 0.02, 'MIS(2)': 0.04, 'MIS(rest)': 0.01, 'SDC': 0.003}\n",
      "{'MIS(rest)': 0.01, 'MIS(1)': 0.02, 'MIS(2)': 0.04}\n"
     ]
    }
   ],
   "source": [
    "with open(\"mis.txt\", 'r') as file2:                                                 #doesnt work if mis.txt has \\n in the end.\n",
    "    a=file2.read()\n",
    "    \n",
    "d= {}\n",
    "for x in a.split(\"\\n\"):\n",
    "    (k,v) = x.split(\"=\")\n",
    "    d[k.strip()] = float(v.strip())\n",
    "\n",
    "sdc = d['SDC']\n",
    "\n",
    "sorted_mis = {k: v for k, v in sorted(d.items(), key=lambda item: item[1])}    #M sorted items according to MIS values.\n",
    "\n",
    "print(sorted_mis)"
   ]
  },
  {
   "cell_type": "code",
   "execution_count": 5,
   "metadata": {},
   "outputs": [
    {
     "name": "stdout",
     "output_type": "stream",
     "text": [
      "{'MIS(10)': 0.01, 'MIS(50)': 0.01, 'MIS(30)': 0.01, 'MIS(40)': 0.01, 'MIS(4)': 0.01, 'MIS(6)': 0.01, 'MIS(8)': 0.01, 'MIS(9)': 0.01, 'MIS(3)': 0.01, 'MIS(5)': 0.01, 'MIS(7)': 0.01, 'MIS(20)': 0.01, 'MIS(1)': 0.02, 'MIS(2)': 0.04}\n",
      "{10: 0.01, 50: 0.01, 30: 0.01, 40: 0.01, 4: 0.01, 6: 0.01, 8: 0.01, 9: 0.01, 3: 0.01, 5: 0.01, 7: 0.01, 20: 0.01, 1: 0.02, 2: 0.04}\n",
      "M is a dictionary that consists of items as keys and MIS as values: {10: 0.01, 50: 0.01, 30: 0.01, 40: 0.01, 4: 0.01, 6: 0.01, 8: 0.01, 9: 0.01, 3: 0.01, 5: 0.01, 7: 0.01, 20: 0.01, 1: 0.02, 2: 0.04}\n",
      "M_keys consists of all items in M sorted in the order of ascending MIS values: [10, 50, 30, 40, 4, 6, 8, 9, 3, 5, 7, 20, 1, 2]\n",
      "L consists of items satisfying the algorithm [10, 50, 30, 40, 4, 6, 8, 9, 3, 5, 7, 20, 1, 2]\n",
      "F1 is the frequent itemset [10, 50, 30, 40, 4, 6, 8, 9, 3, 5, 7, 20, 1, 2]\n"
     ]
    },
    {
     "data": {
      "text/plain": [
       "' Candidate Generation Function '"
      ]
     },
     "execution_count": 5,
     "metadata": {},
     "output_type": "execute_result"
    }
   ],
   "source": [
    "support_count = {}\n",
    "unique_items = []\n",
    "for transaction in T:\n",
    "    for item in transaction:\n",
    "        support_count[item] = 0\n",
    "\n",
    "I = []\n",
    "for key in support_count:\n",
    "    I.append(key)\n",
    "\n",
    "temp_I = I\n",
    "for key in sorted_mis:                                                         #if MIS.txt has an item that is not used\n",
    "                                                                               #in the transactions file exception will \n",
    "                                                                               #be thrown\n",
    "    if key == 'MIS(rest)':\n",
    "        continue\n",
    "    item = int(re.findall(r'\\d+', key)[0])\n",
    "    temp_I.remove(item)\n",
    "    \n",
    "    \n",
    "for item in temp_I:\n",
    "    sorted_mis['MIS('+str(item)+')'] = sorted_mis['MIS(rest)']\n",
    "sorted_mis.pop('MIS(rest)', None)\n",
    "\n",
    "M_ = {k: v for k, v in sorted(sorted_mis.items(), key=lambda item: item[1])}   #consists of sorted values\n",
    "\n",
    "print(M_)\n",
    "M = {}\n",
    "for key in M_:\n",
    "    M[int(re.findall(r'\\d+', key)[0])] = M_[key]                               #conversion of string keys to int\n",
    "print(M)\n",
    "for key in support_count:\n",
    "    for transaction in T:\n",
    "        if key in transaction:\n",
    "            support_count[key] += 1\n",
    "            continue\n",
    "M_keys = []    \n",
    "for key in M:\n",
    "    M_keys.append(key)\n",
    "\"\"\" creating L from sorted lsit of items in the order of ascending mis values.\"\"\" \n",
    "L = []\n",
    "L.append(M_keys[0])\n",
    "for item in M_keys[1:]:\n",
    "    if support_count[item]/len(T) >= M[M_keys[0]]:\n",
    "        L.append(item)\n",
    "        \n",
    "\"\"\" creating F1 frequent itemset \"\"\"\n",
    "F1 = []\n",
    "for l in L:\n",
    "    if support_count[l]/len(T) >= M[l]:\n",
    "        F1.append(l)\n",
    "        \n",
    "\"\"\" Variables we have \"\"\"\n",
    "print(\"M is a dictionary that consists of items as keys and MIS as values:\",M)\n",
    "print(\"M_keys consists of all items in M sorted in the order of ascending MIS values:\",M_keys)\n",
    "print(\"L consists of items satisfying the algorithm\",L)\n",
    "print(\"F1 is the frequent itemset\",F1)\n",
    "\n",
    "\"\"\" Candidate Generation Function \"\"\"\n",
    "#working"
   ]
  },
  {
   "cell_type": "code",
   "execution_count": 39,
   "metadata": {},
   "outputs": [
    {
     "name": "stdout",
     "output_type": "stream",
     "text": [
      "{1: [10, 50, 30, 40, 4, 6, 8, 9, 3, 5, 7, 20, 1, 2], 2: [(40, 4), (50, 3), (20, 5), (40, 3)]}\n",
      "{1: [10, 50, 30, 40, 4, 6, 8, 9, 3, 5, 7, 20, 1, 2], 2: [(40, 4), (50, 3), (20, 5), (40, 3)], 3: [{40, 3, 4}]}\n",
      "{1: [10, 50, 30, 40, 4, 6, 8, 9, 3, 5, 7, 20, 1, 2], 2: [(40, 4), (50, 3), (20, 5), (40, 3)], 3: [{40, 3, 4}]}\n"
     ]
    }
   ],
   "source": [
    "F={}\n",
    "F[1]=F1\n",
    "k=2\n",
    "\n",
    "F[2]=[(40,4),(50,3),(20,5),(40,3)] # dummy value\n",
    "while(k-1) in F:\n",
    "    if k==2:\n",
    "        ## Do k=2\n",
    "        pass\n",
    "    else: # candidate generation \n",
    "        F_k_1=F[k-1]\n",
    "        C=[]\n",
    "        for i in range(len(F_k_1)):\n",
    "            for j in range(i+1, len(F_k_1)): \n",
    "                f1 = list(F_k_1[i])[:k-2]\n",
    "                f2 = list(F_k_1[j])[:k-2]\n",
    "                if f1==f2:\n",
    "                    ik_1=F_k_1[i][-1] \n",
    "                    ik_2=F_k_1[j][-1]\n",
    "                    #print(ik_1,ik_2)\n",
    "                    #print('M[ik_1]',M[ik_1])\n",
    "                    #print('M[ik_2]',M[ik_2])\n",
    "                    if M_keys.index(ik_1)<M_keys.index(ik_2) and (abs(M[ik_1]-M[ik_2])<=sdc): #add candidate \n",
    "                        c=list(F_k_1[i])\n",
    "                        c.append(ik_2)\n",
    "                        flag=False\n",
    "                        \n",
    "                        for window in range(k-1): #prune the candidate list \n",
    "                            s=c[window:k-1]\n",
    "                            if (c[0] in s) or (M[c[1]]==M[c[0]]):\n",
    "                                if s in F_k_1:\n",
    "                                    flag=True\n",
    "                                    break\n",
    "                        \n",
    "                        if not (flag):\n",
    "                            C.append(set(c))\n",
    "        if len(C)>0:\n",
    "            F[k]=C\n",
    "    k+=1\n",
    "    print(F)"
   ]
  },
  {
   "cell_type": "code",
   "execution_count": null,
   "metadata": {},
   "outputs": [],
   "source": []
  }
 ],
 "metadata": {
  "kernelspec": {
   "display_name": "Python 3",
   "language": "python",
   "name": "python3"
  },
  "language_info": {
   "codemirror_mode": {
    "name": "ipython",
    "version": 3
   },
   "file_extension": ".py",
   "mimetype": "text/x-python",
   "name": "python",
   "nbconvert_exporter": "python",
   "pygments_lexer": "ipython3",
   "version": "3.6.9"
  }
 },
 "nbformat": 4,
 "nbformat_minor": 2
}
